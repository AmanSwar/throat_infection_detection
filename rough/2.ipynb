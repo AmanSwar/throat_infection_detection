{
 "cells": [
  {
   "cell_type": "code",
   "execution_count": 14,
   "metadata": {},
   "outputs": [],
   "source": [
    "import torch\n",
    "import torchvision\n",
    "from torch import nn\n",
    "from torchvision import transforms\n",
    "import os\n",
    "import PIL\n",
    "from PIL import Image\n",
    "from torch.utils.data import Dataset , Subset , DataLoader\n",
    "import torchvision.models as models\n",
    "import torch.optim as optim\n",
    "\n"
   ]
  },
  {
   "cell_type": "code",
   "execution_count": 15,
   "metadata": {},
   "outputs": [],
   "source": [
    "transform = transforms.Compose([\n",
    "    transforms.Resize((256 , 256)) , \n",
    "    transforms.PILToTensor() , \n",
    "    transforms.ConvertImageDtype(torch.float32)\n",
    "    ])"
   ]
  },
  {
   "cell_type": "code",
   "execution_count": 16,
   "metadata": {},
   "outputs": [],
   "source": [
    "data_dir = \"/home/aman/code/CV/throat_infection/data\"\n",
    "\n",
    "classes = sorted(os.listdir(data_dir))\n",
    "\n",
    "class_to_label = {class_name: label for label ,class_name in enumerate(classes)}\n",
    "\n",
    "\n"
   ]
  },
  {
   "cell_type": "code",
   "execution_count": 17,
   "metadata": {},
   "outputs": [],
   "source": [
    "class CustomImageDataset(Dataset):\n",
    "\n",
    "    def __init__(self , data_dir , transforms=None):\n",
    "        self.data_dir = data_dir\n",
    "        self.transform = transforms\n",
    "        self.image_path = []\n",
    "        self.labels = []\n",
    "\n",
    "        for class_name , label in class_to_label.items():\n",
    "            class_dir = os.path.join(data_dir , class_name)\n",
    "\n",
    "            for image_path in os.listdir(class_dir):\n",
    "                self.image_path.append(os.path.join(class_dir , image_path))\n",
    "                self.labels.append(label)\n",
    "\n",
    "    def __len__(self):\n",
    "        return len(self.image_path)\n",
    "    \n",
    "    def __getitem__(self ,idx):\n",
    "        image_path = self.image_path[idx]\n",
    "        image = Image.open(image_path).convert('RGB')\n",
    "        image = self.transform(image)\n",
    "        label = self.labels[idx]\n",
    "        return image, label\n",
    "\n",
    "                "
   ]
  },
  {
   "cell_type": "code",
   "execution_count": 18,
   "metadata": {},
   "outputs": [],
   "source": [
    "dataset = CustomImageDataset(data_dir=data_dir , transforms=transform)"
   ]
  },
  {
   "cell_type": "code",
   "execution_count": null,
   "metadata": {},
   "outputs": [],
   "source": [
    "# testng layer\n"
   ]
  },
  {
   "cell_type": "code",
   "execution_count": 22,
   "metadata": {},
   "outputs": [],
   "source": [
    "train_dataset = Subset(dataset , torch.arange(101))\n",
    "valid_dataset = Subset(dataset , torch.arange(101 , len(dataset)))\n",
    "\n",
    "device = torch.device(\"cuda\")\n",
    "batch_size = 5\n",
    "train_dl = DataLoader(dataset , batch_size=batch_size , shuffle=True , pin_memory=True)\n",
    "valid_dl = DataLoader(dataset , batch_size=batch_size , shuffle=True , pin_memory=True)\n"
   ]
  },
  {
   "cell_type": "code",
   "execution_count": 23,
   "metadata": {},
   "outputs": [],
   "source": [
    "from torchvision.models import resnet50 , ResNet50_Weights\n",
    "\n",
    "\n",
    "model = models.resnet50(weights=ResNet50_Weights.IMAGENET1K_V1).to(device=device)\n",
    "in_feature = model.fc.in_features\n",
    "\n",
    "model.fc = nn.Linear(in_feature , 1)"
   ]
  },
  {
   "cell_type": "code",
   "execution_count": 24,
   "metadata": {},
   "outputs": [],
   "source": [
    "loss_fn = nn.BCEWithLogitsLoss()\n",
    "optimizer = optim.SGD(model.parameters() , lr=0.0001)"
   ]
  },
  {
   "cell_type": "code",
   "execution_count": 25,
   "metadata": {},
   "outputs": [],
   "source": [
    "def train(model, n_epoch, train_dl, valid_dl, use_cuda=True):\n",
    "    device = torch.device(\"cuda\" if use_cuda and torch.cuda.is_available() else \"cpu\")\n",
    "    loss_hist_train = [0] * n_epoch\n",
    "    loss_hist_valid = [0] * n_epoch\n",
    "    acc_hist_valid = [0] * n_epoch\n",
    "    acc_hist_train = [0] * n_epoch\n",
    "\n",
    "    model.to(device)\n",
    "\n",
    "    for epoch in range(n_epoch):\n",
    "        model.train()\n",
    "        for x, y in train_dl:\n",
    "            x, y = x.to(device), y.to(device).float()  # Convert target labels to float\n",
    "            pred = model(x).squeeze(1)  # Remove the extra dimension from the output\n",
    "            loss = loss_fn(pred, y)\n",
    "            loss.backward()\n",
    "            optimizer.step()\n",
    "            optimizer.zero_grad()\n",
    "            loss_hist_train[epoch] += loss.item() * y.size(0)\n",
    "            is_correct = (torch.round(torch.sigmoid(pred)) == y).float()  # Apply sigmoid and round\n",
    "            acc_hist_train[epoch] += is_correct.sum()\n",
    "        loss_hist_train[epoch] /= len(train_dl.dataset)\n",
    "        acc_hist_train[epoch] /= len(train_dl.dataset)\n",
    "\n",
    "        model.eval()\n",
    "        with torch.no_grad():\n",
    "            for x, y in valid_dl:\n",
    "                x, y = x.to(device), y.to(device).float()  # Convert target labels to float\n",
    "                pred = model(x).squeeze(1)  # Remove the extra dimension from the output\n",
    "                loss = loss_fn(pred, y)\n",
    "                loss_hist_valid[epoch] += loss.item() * y.size(0)\n",
    "                is_correct = (torch.round(torch.sigmoid(pred)) == y).float()  # Apply sigmoid and round\n",
    "                acc_hist_valid[epoch] += is_correct.sum()\n",
    "            loss_hist_valid[epoch] /= len(valid_dl.dataset)\n",
    "            acc_hist_valid[epoch] /= len(valid_dl.dataset)\n",
    "        print(f\"epoch {epoch+1} accuracy {acc_hist_train[epoch]:.4f} val_accuracy: {acc_hist_valid[epoch]:.4f}\")\n",
    "\n",
    "    return loss_hist_train, loss_hist_valid, acc_hist_train, acc_hist_valid"
   ]
  },
  {
   "cell_type": "code",
   "execution_count": 27,
   "metadata": {},
   "outputs": [
    {
     "name": "stdout",
     "output_type": "stream",
     "text": [
      "epoch 1 accuracy 0.4586 val_accuracy: 0.5055\n",
      "epoch 2 accuracy 0.4862 val_accuracy: 0.5193\n",
      "epoch 3 accuracy 0.4917 val_accuracy: 0.5331\n",
      "epoch 4 accuracy 0.4807 val_accuracy: 0.5359\n",
      "epoch 5 accuracy 0.5635 val_accuracy: 0.5552\n",
      "epoch 6 accuracy 0.5221 val_accuracy: 0.5552\n",
      "epoch 7 accuracy 0.5939 val_accuracy: 0.5552\n",
      "epoch 8 accuracy 0.5635 val_accuracy: 0.5773\n",
      "epoch 9 accuracy 0.5746 val_accuracy: 0.5856\n",
      "epoch 10 accuracy 0.5718 val_accuracy: 0.5967\n",
      "epoch 11 accuracy 0.6050 val_accuracy: 0.6022\n",
      "epoch 12 accuracy 0.6105 val_accuracy: 0.5939\n",
      "epoch 13 accuracy 0.5773 val_accuracy: 0.5994\n",
      "epoch 14 accuracy 0.5663 val_accuracy: 0.6050\n",
      "epoch 15 accuracy 0.6022 val_accuracy: 0.6133\n",
      "epoch 16 accuracy 0.6077 val_accuracy: 0.6050\n",
      "epoch 17 accuracy 0.5829 val_accuracy: 0.6050\n",
      "epoch 18 accuracy 0.5994 val_accuracy: 0.5967\n",
      "epoch 19 accuracy 0.5801 val_accuracy: 0.6188\n",
      "epoch 20 accuracy 0.5994 val_accuracy: 0.6105\n",
      "epoch 21 accuracy 0.5856 val_accuracy: 0.6022\n",
      "epoch 22 accuracy 0.5967 val_accuracy: 0.5994\n",
      "epoch 23 accuracy 0.6022 val_accuracy: 0.5939\n",
      "epoch 24 accuracy 0.5994 val_accuracy: 0.5939\n",
      "epoch 25 accuracy 0.5939 val_accuracy: 0.5994\n",
      "epoch 26 accuracy 0.6022 val_accuracy: 0.5967\n",
      "epoch 27 accuracy 0.5939 val_accuracy: 0.6050\n",
      "epoch 28 accuracy 0.6077 val_accuracy: 0.6105\n",
      "epoch 29 accuracy 0.5994 val_accuracy: 0.6022\n",
      "epoch 30 accuracy 0.6022 val_accuracy: 0.6022\n"
     ]
    }
   ],
   "source": [
    "torch.manual_seed(1)\n",
    "\n",
    "num_epoch = 30\n",
    "\n",
    "hist = train(model , num_epoch , train_dl , valid_dl)\n",
    "\n"
   ]
  }
 ],
 "metadata": {
  "kernelspec": {
   "display_name": "base",
   "language": "python",
   "name": "python3"
  },
  "language_info": {
   "codemirror_mode": {
    "name": "ipython",
    "version": 3
   },
   "file_extension": ".py",
   "mimetype": "text/x-python",
   "name": "python",
   "nbconvert_exporter": "python",
   "pygments_lexer": "ipython3",
   "version": "3.11.5"
  }
 },
 "nbformat": 4,
 "nbformat_minor": 2
}
