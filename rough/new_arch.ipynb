{
 "cells": [
  {
   "cell_type": "code",
   "execution_count": 253,
   "metadata": {},
   "outputs": [],
   "source": [
    "import torch\n",
    "import torchvision\n",
    "from torch import nn\n",
    "from torchvision import transforms\n",
    "import os\n",
    "import PIL\n",
    "from PIL import Image\n",
    "from torch.utils.data import Dataset , Subset , DataLoader\n",
    "import torchvision.models as models\n",
    "import torch.optim as optim\n",
    "import random\n",
    "import torch.nn.functional as F\n",
    "\n",
    "from torch.utils.tensorboard import SummaryWriter"
   ]
  },
  {
   "cell_type": "code",
   "execution_count": 254,
   "metadata": {},
   "outputs": [],
   "source": [
    "transform = transforms.Compose([\n",
    "    transforms.Resize((256 , 256)) , \n",
    "    transforms.PILToTensor() , \n",
    "    transforms.ConvertImageDtype(torch.float32)\n",
    "    ])"
   ]
  },
  {
   "cell_type": "code",
   "execution_count": 255,
   "metadata": {},
   "outputs": [],
   "source": [
    "data_dir = \"/home/aman/code/CV/throat_infection/data\"\n",
    "\n",
    "classes = sorted(os.listdir(data_dir))\n",
    "\n",
    "class_to_label = {class_name: label for label ,class_name in enumerate(classes)}\n",
    "\n",
    "\n"
   ]
  },
  {
   "cell_type": "code",
   "execution_count": 256,
   "metadata": {},
   "outputs": [],
   "source": [
    "class CustomImageDataset(Dataset):\n",
    "\n",
    "    def __init__(self , data_dir , transforms=None):\n",
    "        self.data_dir = data_dir\n",
    "        self.transform = transforms\n",
    "        self.image_paths = []\n",
    "        self.labels = []\n",
    "\n",
    "        for class_name , label in class_to_label.items():\n",
    "            class_dir = os.path.join(data_dir , class_name)\n",
    "\n",
    "            for image_path in os.listdir(class_dir):\n",
    "                self.image_paths.append(os.path.join(class_dir , image_path))\n",
    "                self.labels.append(label)\n",
    "        \n",
    "        random.shuffle(self.image_paths)\n",
    "\n",
    "    def __len__(self):\n",
    "        return len(self.image_paths)\n",
    "    \n",
    "    def __getitem__(self ,idx):\n",
    "        random.shuffle(self.image_paths)\n",
    "        image_path = self.image_paths[idx]\n",
    "        image = Image.open(image_path).convert('RGB')\n",
    "        image = self.transform(image)\n",
    "        label = self.labels[idx]\n",
    "        return image, label\n",
    "\n",
    "                "
   ]
  },
  {
   "cell_type": "code",
   "execution_count": 257,
   "metadata": {},
   "outputs": [],
   "source": [
    "dataset = CustomImageDataset(data_dir=data_dir , transforms=transform)\n"
   ]
  },
  {
   "cell_type": "code",
   "execution_count": 258,
   "metadata": {},
   "outputs": [],
   "source": [
    "\n",
    "def get_random_subset(ds , num_sample):\n",
    "    all_indices = list(range(len(dataset)))\n",
    "\n",
    "    random.shuffle(all_indices)\n",
    "    random.shuffle(all_indices)\n",
    "    random.shuffle(all_indices)\n",
    "\n",
    "    train_indices = all_indices[:num_sample]\n",
    "    valid_indices = all_indices[num_sample:]\n",
    "\n",
    "    train_sub = Subset(ds , train_indices)\n",
    "    valid_sub = Subset(ds , valid_indices)\n",
    "\n",
    "\n",
    "    return train_sub , valid_sub\n",
    " "
   ]
  },
  {
   "cell_type": "code",
   "execution_count": 259,
   "metadata": {},
   "outputs": [],
   "source": [
    "train_dataset , valid_dataset = get_random_subset(dataset ,4634)\n",
    "\n",
    "device = torch.device(\"cuda\")\n",
    "batch_size = 32\n",
    "train_dl = DataLoader(train_dataset , batch_size=batch_size , shuffle=True , pin_memory=True)\n",
    "valid_dl = DataLoader(valid_dataset , batch_size=batch_size , shuffle=False , pin_memory=True)\\\n",
    "\n",
    "\n"
   ]
  },
  {
   "cell_type": "code",
   "execution_count": 260,
   "metadata": {},
   "outputs": [],
   "source": [
    "device = torch.device(\"cuda\")"
   ]
  },
  {
   "cell_type": "code",
   "execution_count": 261,
   "metadata": {},
   "outputs": [],
   "source": [
    "class Net(nn.Module):\n",
    "    def __init__(self):\n",
    "        super(Net, self).__init__()\n",
    "        self.conv1 = nn.Conv2d(3, 32, 3, padding=1)\n",
    "        self.pool1 = nn.MaxPool2d(2, 2)\n",
    "        self.conv2 = nn.Conv2d(32, 64, 3, padding=1)\n",
    "        self.pool2 = nn.MaxPool2d(2, 2)\n",
    "        self.conv3 = nn.Conv2d(64, 128, 3, padding=1)\n",
    "        self.pool3 = nn.MaxPool2d(2, 2)\n",
    "\n",
    "        self.fc1 = nn.Linear(8 * 8 * 128, 256) \n",
    "        self.fc2 = nn.Linear(256 , 1)\n",
    "        self.dropout = nn.Dropout(0.5)\n",
    "\n",
    "    def forward(self, x):\n",
    "        x = self.pool1(F.relu(self.conv1(x)))\n",
    "        x = self.pool2(F.relu(self.conv2(x)))\n",
    "        x = self.pool3(F.relu(self.conv3(x)))\n",
    "        x = x.view(1, 8 * 8 * 128)\n",
    "        x = F.relu(self.fc1(x))\n",
    "        x = self.dropout(x)\n",
    "        print(x.shape)\n",
    "        x = torch.sigmoid(self.fc2(x))\n",
    "        return x.squeeze(1)\n",
    "        # return x\n",
    "    \n",
    "\n",
    "model= Net().to(device)\n"
   ]
  },
  {
   "cell_type": "code",
   "execution_count": null,
   "metadata": {},
   "outputs": [],
   "source": []
  },
  {
   "cell_type": "code",
   "execution_count": 262,
   "metadata": {},
   "outputs": [],
   "source": [
    "loss_fn = nn.BCELoss()\n",
    "optimizer = optim.Adam(model.parameters(), lr=0.001)\n"
   ]
  },
  {
   "cell_type": "code",
   "execution_count": 263,
   "metadata": {},
   "outputs": [],
   "source": [
    "def train(model, n_epoch, train_dl, valid_dl, use_cuda=True):\n",
    "    device = torch.device(\"cuda\" if use_cuda and torch.cuda.is_available() else \"cpu\")\n",
    "    loss_hist_train = [0] * n_epoch\n",
    "    loss_hist_valid = [0] * n_epoch\n",
    "    acc_hist_valid = [0] * n_epoch\n",
    "    acc_hist_train = [0] * n_epoch\n",
    "\n",
    "    model.to(device)\n",
    "\n",
    "    for epoch in range(n_epoch):\n",
    "        model.train()\n",
    "        for x, y in train_dl:\n",
    "            x, y = x.to(device), y.to(device).float()  # Convert target labels to float\n",
    "            pred = model(x).squeeze(1)  # Remove the extra dimension from the output\n",
    "            loss = loss_fn(pred, y)\n",
    "            loss.backward()\n",
    "            optimizer.step()\n",
    "            optimizer.zero_grad()\n",
    "            loss_hist_train[epoch] += loss.item() * y.size(0)\n",
    "            is_correct = (torch.round(torch.sigmoid(pred)) == y).float()  # Apply sigmoid and round\n",
    "            acc_hist_train[epoch] += is_correct.sum()\n",
    "            # print(\"Logging training loss\")\n",
    "            # writer.add_scalar(\"Loss/train\", loss.item(), epoch)  # Log training loss\n",
    "            # writer.add_scalar(\"Accuracy/train\", is_correct.sum(), epoch)  # Log training accuracy\n",
    "        loss_hist_train[epoch] /= len(train_dl.dataset)\n",
    "        acc_hist_train[epoch] /= len(train_dl.dataset)\n",
    "\n",
    "        model.eval()\n",
    "        with torch.no_grad():\n",
    "            for x, y in valid_dl:\n",
    "                x, y = x.to(device), y.to(device).float()  # Convert target labels to float\n",
    "                pred = model(x).squeeze(1)  # Remove the extra dimension from the output\n",
    "                loss = loss_fn(pred, y)\n",
    "                loss_hist_valid[epoch] += loss.item() * y.size(0)\n",
    "                is_correct = (torch.round(torch.sigmoid(pred)) == y).float()  # Apply sigmoid and round\n",
    "                acc_hist_valid[epoch] += is_correct.sum()\n",
    "            loss_hist_valid[epoch] /= len(valid_dl.dataset)\n",
    "            acc_hist_valid[epoch] /= len(valid_dl.dataset)\n",
    "        print(f\"epoch {epoch+1} accuracy {acc_hist_train[epoch]:.4f} val_accuracy: {acc_hist_valid[epoch]:.4f}\")\n",
    "\n",
    "    return loss_hist_train, loss_hist_valid, acc_hist_train, acc_hist_valid"
   ]
  },
  {
   "cell_type": "code",
   "execution_count": 264,
   "metadata": {},
   "outputs": [
    {
     "ename": "RuntimeError",
     "evalue": "shape '[1, 8192]' is invalid for input of size 4194304",
     "output_type": "error",
     "traceback": [
      "\u001b[0;31m---------------------------------------------------------------------------\u001b[0m",
      "\u001b[0;31mRuntimeError\u001b[0m                              Traceback (most recent call last)",
      "Cell \u001b[0;32mIn[264], line 5\u001b[0m\n\u001b[1;32m      1\u001b[0m torch\u001b[38;5;241m.\u001b[39mmanual_seed(\u001b[38;5;241m1\u001b[39m)\n\u001b[1;32m      3\u001b[0m num_epoch \u001b[38;5;241m=\u001b[39m \u001b[38;5;241m15\u001b[39m\n\u001b[0;32m----> 5\u001b[0m hist \u001b[38;5;241m=\u001b[39m train(model , num_epoch , train_dl , valid_dl)\n",
      "Cell \u001b[0;32mIn[263], line 14\u001b[0m, in \u001b[0;36mtrain\u001b[0;34m(model, n_epoch, train_dl, valid_dl, use_cuda)\u001b[0m\n\u001b[1;32m     12\u001b[0m \u001b[38;5;28;01mfor\u001b[39;00m x, y \u001b[38;5;129;01min\u001b[39;00m train_dl:\n\u001b[1;32m     13\u001b[0m     x, y \u001b[38;5;241m=\u001b[39m x\u001b[38;5;241m.\u001b[39mto(device), y\u001b[38;5;241m.\u001b[39mto(device)\u001b[38;5;241m.\u001b[39mfloat()  \u001b[38;5;66;03m# Convert target labels to float\u001b[39;00m\n\u001b[0;32m---> 14\u001b[0m     pred \u001b[38;5;241m=\u001b[39m model(x)\u001b[38;5;241m.\u001b[39msqueeze(\u001b[38;5;241m1\u001b[39m)  \u001b[38;5;66;03m# Remove the extra dimension from the output\u001b[39;00m\n\u001b[1;32m     15\u001b[0m     loss \u001b[38;5;241m=\u001b[39m loss_fn(pred, y)\n\u001b[1;32m     16\u001b[0m     loss\u001b[38;5;241m.\u001b[39mbackward()\n",
      "File \u001b[0;32m~/anaconda3/lib/python3.11/site-packages/torch/nn/modules/module.py:1518\u001b[0m, in \u001b[0;36mModule._wrapped_call_impl\u001b[0;34m(self, *args, **kwargs)\u001b[0m\n\u001b[1;32m   1516\u001b[0m     \u001b[38;5;28;01mreturn\u001b[39;00m \u001b[38;5;28mself\u001b[39m\u001b[38;5;241m.\u001b[39m_compiled_call_impl(\u001b[38;5;241m*\u001b[39margs, \u001b[38;5;241m*\u001b[39m\u001b[38;5;241m*\u001b[39mkwargs)  \u001b[38;5;66;03m# type: ignore[misc]\u001b[39;00m\n\u001b[1;32m   1517\u001b[0m \u001b[38;5;28;01melse\u001b[39;00m:\n\u001b[0;32m-> 1518\u001b[0m     \u001b[38;5;28;01mreturn\u001b[39;00m \u001b[38;5;28mself\u001b[39m\u001b[38;5;241m.\u001b[39m_call_impl(\u001b[38;5;241m*\u001b[39margs, \u001b[38;5;241m*\u001b[39m\u001b[38;5;241m*\u001b[39mkwargs)\n",
      "File \u001b[0;32m~/anaconda3/lib/python3.11/site-packages/torch/nn/modules/module.py:1527\u001b[0m, in \u001b[0;36mModule._call_impl\u001b[0;34m(self, *args, **kwargs)\u001b[0m\n\u001b[1;32m   1522\u001b[0m \u001b[38;5;66;03m# If we don't have any hooks, we want to skip the rest of the logic in\u001b[39;00m\n\u001b[1;32m   1523\u001b[0m \u001b[38;5;66;03m# this function, and just call forward.\u001b[39;00m\n\u001b[1;32m   1524\u001b[0m \u001b[38;5;28;01mif\u001b[39;00m \u001b[38;5;129;01mnot\u001b[39;00m (\u001b[38;5;28mself\u001b[39m\u001b[38;5;241m.\u001b[39m_backward_hooks \u001b[38;5;129;01mor\u001b[39;00m \u001b[38;5;28mself\u001b[39m\u001b[38;5;241m.\u001b[39m_backward_pre_hooks \u001b[38;5;129;01mor\u001b[39;00m \u001b[38;5;28mself\u001b[39m\u001b[38;5;241m.\u001b[39m_forward_hooks \u001b[38;5;129;01mor\u001b[39;00m \u001b[38;5;28mself\u001b[39m\u001b[38;5;241m.\u001b[39m_forward_pre_hooks\n\u001b[1;32m   1525\u001b[0m         \u001b[38;5;129;01mor\u001b[39;00m _global_backward_pre_hooks \u001b[38;5;129;01mor\u001b[39;00m _global_backward_hooks\n\u001b[1;32m   1526\u001b[0m         \u001b[38;5;129;01mor\u001b[39;00m _global_forward_hooks \u001b[38;5;129;01mor\u001b[39;00m _global_forward_pre_hooks):\n\u001b[0;32m-> 1527\u001b[0m     \u001b[38;5;28;01mreturn\u001b[39;00m forward_call(\u001b[38;5;241m*\u001b[39margs, \u001b[38;5;241m*\u001b[39m\u001b[38;5;241m*\u001b[39mkwargs)\n\u001b[1;32m   1529\u001b[0m \u001b[38;5;28;01mtry\u001b[39;00m:\n\u001b[1;32m   1530\u001b[0m     result \u001b[38;5;241m=\u001b[39m \u001b[38;5;28;01mNone\u001b[39;00m\n",
      "Cell \u001b[0;32mIn[261], line 19\u001b[0m, in \u001b[0;36mNet.forward\u001b[0;34m(self, x)\u001b[0m\n\u001b[1;32m     17\u001b[0m x \u001b[38;5;241m=\u001b[39m \u001b[38;5;28mself\u001b[39m\u001b[38;5;241m.\u001b[39mpool2(F\u001b[38;5;241m.\u001b[39mrelu(\u001b[38;5;28mself\u001b[39m\u001b[38;5;241m.\u001b[39mconv2(x)))\n\u001b[1;32m     18\u001b[0m x \u001b[38;5;241m=\u001b[39m \u001b[38;5;28mself\u001b[39m\u001b[38;5;241m.\u001b[39mpool3(F\u001b[38;5;241m.\u001b[39mrelu(\u001b[38;5;28mself\u001b[39m\u001b[38;5;241m.\u001b[39mconv3(x)))\n\u001b[0;32m---> 19\u001b[0m x \u001b[38;5;241m=\u001b[39m x\u001b[38;5;241m.\u001b[39mview(\u001b[38;5;241m1\u001b[39m, \u001b[38;5;241m8\u001b[39m \u001b[38;5;241m*\u001b[39m \u001b[38;5;241m8\u001b[39m \u001b[38;5;241m*\u001b[39m \u001b[38;5;241m128\u001b[39m)\n\u001b[1;32m     20\u001b[0m x \u001b[38;5;241m=\u001b[39m F\u001b[38;5;241m.\u001b[39mrelu(\u001b[38;5;28mself\u001b[39m\u001b[38;5;241m.\u001b[39mfc1(x))\n\u001b[1;32m     21\u001b[0m x \u001b[38;5;241m=\u001b[39m \u001b[38;5;28mself\u001b[39m\u001b[38;5;241m.\u001b[39mdropout(x)\n",
      "\u001b[0;31mRuntimeError\u001b[0m: shape '[1, 8192]' is invalid for input of size 4194304"
     ]
    }
   ],
   "source": [
    "torch.manual_seed(1)\n",
    "\n",
    "num_epoch = 15\n",
    "\n",
    "hist = train(model , num_epoch , train_dl , valid_dl)\n",
    "\n"
   ]
  }
 ],
 "metadata": {
  "kernelspec": {
   "display_name": "base",
   "language": "python",
   "name": "python3"
  },
  "language_info": {
   "codemirror_mode": {
    "name": "ipython",
    "version": 3
   },
   "file_extension": ".py",
   "mimetype": "text/x-python",
   "name": "python",
   "nbconvert_exporter": "python",
   "pygments_lexer": "ipython3",
   "version": "3.11.5"
  }
 },
 "nbformat": 4,
 "nbformat_minor": 2
}
