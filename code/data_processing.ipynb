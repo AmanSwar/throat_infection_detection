{
 "cells": [
  {
   "cell_type": "code",
   "execution_count": 1,
   "metadata": {},
   "outputs": [],
   "source": [
    "import torch\n",
    "import torchvision\n",
    "from torch import nn\n",
    "from torchvision import transforms\n",
    "import os\n",
    "import PIL\n",
    "from PIL import Image\n",
    "from torch.utils.data import Dataset , Subset , DataLoader\n",
    "import torchvision.models as models\n",
    "import torch.optim as optim\n",
    "\n"
   ]
  },
  {
   "cell_type": "code",
   "execution_count": 2,
   "metadata": {},
   "outputs": [],
   "source": [
    "transform = transforms.Compose([\n",
    "    transforms.Resize((256 , 256)) , \n",
    "    transforms.PILToTensor() , \n",
    "    transforms.ConvertImageDtype(torch.float32)\n",
    "    ])"
   ]
  },
  {
   "cell_type": "code",
   "execution_count": 3,
   "metadata": {},
   "outputs": [],
   "source": [
    "data_dir = \"/home/aman/code/CV/throat_infection/data\"\n",
    "\n",
    "classes = sorted(os.listdir(data_dir))\n",
    "\n",
    "class_to_label = {class_name: label for label ,class_name in enumerate(classes)}\n",
    "\n",
    "\n"
   ]
  },
  {
   "cell_type": "code",
   "execution_count": 4,
   "metadata": {},
   "outputs": [],
   "source": [
    "class CustomImageDataset(Dataset):\n",
    "\n",
    "    def __init__(self , data_dir , transforms=None):\n",
    "        self.data_dir = data_dir\n",
    "        self.transform = transforms\n",
    "        self.image_path = []\n",
    "        self.labels = []\n",
    "\n",
    "        for class_name , label in class_to_label.items():\n",
    "            class_dir = os.path.join(data_dir , class_name)\n",
    "\n",
    "            for image_path in os.listdir(class_dir):\n",
    "                self.image_path.append(os.path.join(class_dir , image_path))\n",
    "                self.labels.append(label)\n",
    "\n",
    "    def __len__(self):\n",
    "        return len(self.image_path)\n",
    "    \n",
    "    def __getitem__(self ,idx):\n",
    "        image_path = self.image_path[idx]\n",
    "        image = Image.open(image_path).convert('RGB')\n",
    "        image = self.transform(image)\n",
    "        label = self.labels[idx]\n",
    "        return image, label\n",
    "\n",
    "                "
   ]
  },
  {
   "cell_type": "code",
   "execution_count": 5,
   "metadata": {},
   "outputs": [],
   "source": [
    "dataset = CustomImageDataset(data_dir=data_dir , transforms=transform)"
   ]
  },
  {
   "cell_type": "code",
   "execution_count": 6,
   "metadata": {},
   "outputs": [],
   "source": [
    "train_dataset = Subset(dataset , torch.arange(101))\n",
    "valid_dataset = Subset(dataset , torch.arange(101 , len(dataset)))\n",
    "\n",
    "device = torch.device(\"cuda\")\n",
    "batch_size = 5\n",
    "train_dl = DataLoader(dataset , batch_size=batch_size , shuffle=True , pin_memory=True)\n",
    "valid_dl = DataLoader(dataset , batch_size=batch_size , shuffle=True , pin_memory=True)\n"
   ]
  }
 ],
 "metadata": {
  "kernelspec": {
   "display_name": "base",
   "language": "python",
   "name": "python3"
  },
  "language_info": {
   "codemirror_mode": {
    "name": "ipython",
    "version": 3
   },
   "file_extension": ".py",
   "mimetype": "text/x-python",
   "name": "python",
   "nbconvert_exporter": "python",
   "pygments_lexer": "ipython3",
   "version": "3.11.5"
  }
 },
 "nbformat": 4,
 "nbformat_minor": 2
}
