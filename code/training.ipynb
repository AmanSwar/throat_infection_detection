{
 "cells": [
  {
   "cell_type": "code",
   "execution_count": 95,
   "metadata": {},
   "outputs": [],
   "source": [
    "import torch\n",
    "import torchvision\n",
    "from torch import nn\n",
    "from torchvision import transforms\n",
    "import os\n",
    "import PIL\n",
    "from PIL import Image\n",
    "from torch.utils.data import Dataset , Subset , DataLoader\n",
    "import torchvision.models as models\n",
    "import torch.optim as optim\n",
    "\n",
    "from torch.utils.tensorboard import SummaryWriter"
   ]
  },
  {
   "cell_type": "code",
   "execution_count": 96,
   "metadata": {},
   "outputs": [],
   "source": [
    "transform = transforms.Compose([\n",
    "    transforms.Resize((256 , 256)) , \n",
    "    transforms.PILToTensor() , \n",
    "    transforms.ConvertImageDtype(torch.float32)\n",
    "    ])"
   ]
  },
  {
   "cell_type": "code",
   "execution_count": 97,
   "metadata": {},
   "outputs": [],
   "source": [
    "data_dir = \"/home/aman/code/CV/throat_infection/data\"\n",
    "\n",
    "classes = sorted(os.listdir(data_dir))\n",
    "\n",
    "class_to_label = {class_name: label for label ,class_name in enumerate(classes)}\n",
    "\n",
    "\n"
   ]
  },
  {
   "cell_type": "code",
   "execution_count": 98,
   "metadata": {},
   "outputs": [],
   "source": [
    "class CustomImageDataset(Dataset):\n",
    "\n",
    "    def __init__(self , data_dir , transforms=None):\n",
    "        self.data_dir = data_dir\n",
    "        self.transform = transforms\n",
    "        self.image_path = []\n",
    "        self.labels = []\n",
    "\n",
    "        for class_name , label in class_to_label.items():\n",
    "            class_dir = os.path.join(data_dir , class_name)\n",
    "\n",
    "            for image_path in os.listdir(class_dir):\n",
    "                self.image_path.append(os.path.join(class_dir , image_path))\n",
    "                self.labels.append(label)\n",
    "\n",
    "    def __len__(self):\n",
    "        return len(self.image_path)\n",
    "    \n",
    "    def __getitem__(self ,idx):\n",
    "        image_path = self.image_path[idx]\n",
    "        image = Image.open(image_path).convert('RGB')\n",
    "        image = self.transform(image)\n",
    "        label = self.labels[idx]\n",
    "        return image, label\n",
    "\n",
    "                "
   ]
  },
  {
   "cell_type": "code",
   "execution_count": 99,
   "metadata": {},
   "outputs": [],
   "source": [
    "dataset = CustomImageDataset(data_dir=data_dir , transforms=transform)"
   ]
  },
  {
   "cell_type": "code",
   "execution_count": 100,
   "metadata": {},
   "outputs": [],
   "source": [
    "train_dataset = Subset(dataset , torch.arange(101))\n",
    "valid_dataset = Subset(dataset , torch.arange(101 , len(dataset)))\n",
    "\n",
    "device = torch.device(\"cuda\")\n",
    "batch_size = 32\n",
    "train_dl = DataLoader(dataset , batch_size=batch_size , shuffle=True , pin_memory=True)\n",
    "valid_dl = DataLoader(dataset , batch_size=batch_size , shuffle=True , pin_memory=True)\n"
   ]
  },
  {
   "cell_type": "code",
   "execution_count": 101,
   "metadata": {},
   "outputs": [],
   "source": [
    "from torchvision.models import resnet50 , ResNet50_Weights\n",
    "device = torch.device(\"cuda\")"
   ]
  },
  {
   "cell_type": "code",
   "execution_count": 102,
   "metadata": {},
   "outputs": [],
   "source": [
    "model = models.resnet50(weights=ResNet50_Weights.IMAGENET1K_V1).to(device=device)\n",
    "in_feature = model.fc.in_features\n",
    "\n",
    "model.fc = nn.Linear(in_feature , 1)"
   ]
  },
  {
   "cell_type": "code",
   "execution_count": 103,
   "metadata": {},
   "outputs": [],
   "source": [
    "loss_fn = nn.BCEWithLogitsLoss()\n",
    "optimizer = optim.Adam(model.parameters() , lr=0.001)\n",
    "writer = SummaryWriter(\"runs/experiment_name\")"
   ]
  },
  {
   "cell_type": "code",
   "execution_count": 104,
   "metadata": {},
   "outputs": [],
   "source": [
    "def train(model, n_epoch, train_dl, valid_dl, use_cuda=True):\n",
    "    device = torch.device(\"cuda\" if use_cuda and torch.cuda.is_available() else \"cpu\")\n",
    "    loss_hist_train = [0] * n_epoch\n",
    "    loss_hist_valid = [0] * n_epoch\n",
    "    acc_hist_valid = [0] * n_epoch\n",
    "    acc_hist_train = [0] * n_epoch\n",
    "\n",
    "    model.to(device)\n",
    "\n",
    "    for epoch in range(n_epoch):\n",
    "        model.train()\n",
    "        for x, y in train_dl:\n",
    "            x, y = x.to(device), y.to(device).float()  # Convert target labels to float\n",
    "            pred = model(x).squeeze(1)  # Remove the extra dimension from the output\n",
    "            loss = loss_fn(pred, y)\n",
    "            loss.backward()\n",
    "            optimizer.step()\n",
    "            optimizer.zero_grad()\n",
    "            loss_hist_train[epoch] += loss.item() * y.size(0)\n",
    "            is_correct = (torch.round(torch.sigmoid(pred)) == y).float()  # Apply sigmoid and round\n",
    "            acc_hist_train[epoch] += is_correct.sum()\n",
    "            # print(\"Logging training loss\")\n",
    "            writer.add_scalar(\"Loss/train\", loss.item(), epoch)  # Log training loss\n",
    "            writer.add_scalar(\"Accuracy/train\", is_correct.sum(), epoch)  # Log training accuracy\n",
    "        loss_hist_train[epoch] /= len(train_dl.dataset)\n",
    "        acc_hist_train[epoch] /= len(train_dl.dataset)\n",
    "\n",
    "        model.eval()\n",
    "        with torch.no_grad():\n",
    "            for x, y in valid_dl:\n",
    "                x, y = x.to(device), y.to(device).float()  # Convert target labels to float\n",
    "                pred = model(x).squeeze(1)  # Remove the extra dimension from the output\n",
    "                loss = loss_fn(pred, y)\n",
    "                loss_hist_valid[epoch] += loss.item() * y.size(0)\n",
    "                is_correct = (torch.round(torch.sigmoid(pred)) == y).float()  # Apply sigmoid and round\n",
    "                acc_hist_valid[epoch] += is_correct.sum()\n",
    "            loss_hist_valid[epoch] /= len(valid_dl.dataset)\n",
    "            acc_hist_valid[epoch] /= len(valid_dl.dataset)\n",
    "        print(f\"epoch {epoch+1} accuracy {acc_hist_train[epoch]:.4f} val_accuracy: {acc_hist_valid[epoch]:.4f}\")\n",
    "\n",
    "    return loss_hist_train, loss_hist_valid, acc_hist_train, acc_hist_valid"
   ]
  },
  {
   "cell_type": "code",
   "execution_count": null,
   "metadata": {},
   "outputs": [],
   "source": []
  },
  {
   "cell_type": "code",
   "execution_count": 105,
   "metadata": {},
   "outputs": [
    {
     "name": "stdout",
     "output_type": "stream",
     "text": [
      "Logging training loss\n",
      "Logging training loss\n",
      "Logging training loss\n",
      "Logging training loss\n",
      "Logging training loss\n",
      "Logging training loss\n",
      "Logging training loss\n",
      "Logging training loss\n"
     ]
    },
    {
     "ename": "KeyboardInterrupt",
     "evalue": "",
     "output_type": "error",
     "traceback": [
      "\u001b[0;31m---------------------------------------------------------------------------\u001b[0m",
      "\u001b[0;31mKeyboardInterrupt\u001b[0m                         Traceback (most recent call last)",
      "Cell \u001b[0;32mIn[105], line 5\u001b[0m\n\u001b[1;32m      1\u001b[0m torch\u001b[38;5;241m.\u001b[39mmanual_seed(\u001b[38;5;241m1\u001b[39m)\n\u001b[1;32m      3\u001b[0m num_epoch \u001b[38;5;241m=\u001b[39m \u001b[38;5;241m50\u001b[39m\n\u001b[0;32m----> 5\u001b[0m hist \u001b[38;5;241m=\u001b[39m train(model , num_epoch , train_dl , valid_dl)\n",
      "Cell \u001b[0;32mIn[104], line 19\u001b[0m, in \u001b[0;36mtrain\u001b[0;34m(model, n_epoch, train_dl, valid_dl, use_cuda)\u001b[0m\n\u001b[1;32m     17\u001b[0m optimizer\u001b[38;5;241m.\u001b[39mstep()\n\u001b[1;32m     18\u001b[0m optimizer\u001b[38;5;241m.\u001b[39mzero_grad()\n\u001b[0;32m---> 19\u001b[0m loss_hist_train[epoch] \u001b[38;5;241m+\u001b[39m\u001b[38;5;241m=\u001b[39m loss\u001b[38;5;241m.\u001b[39mitem() \u001b[38;5;241m*\u001b[39m y\u001b[38;5;241m.\u001b[39msize(\u001b[38;5;241m0\u001b[39m)\n\u001b[1;32m     20\u001b[0m is_correct \u001b[38;5;241m=\u001b[39m (torch\u001b[38;5;241m.\u001b[39mround(torch\u001b[38;5;241m.\u001b[39msigmoid(pred)) \u001b[38;5;241m==\u001b[39m y)\u001b[38;5;241m.\u001b[39mfloat()  \u001b[38;5;66;03m# Apply sigmoid and round\u001b[39;00m\n\u001b[1;32m     21\u001b[0m acc_hist_train[epoch] \u001b[38;5;241m+\u001b[39m\u001b[38;5;241m=\u001b[39m is_correct\u001b[38;5;241m.\u001b[39msum()\n",
      "\u001b[0;31mKeyboardInterrupt\u001b[0m: "
     ]
    }
   ],
   "source": [
    "torch.manual_seed(1)\n",
    "\n",
    "num_epoch = 50\n",
    "\n",
    "hist = train(model , num_epoch , train_dl , valid_dl)\n",
    "\n"
   ]
  }
 ],
 "metadata": {
  "kernelspec": {
   "display_name": "base",
   "language": "python",
   "name": "python3"
  },
  "language_info": {
   "codemirror_mode": {
    "name": "ipython",
    "version": 3
   },
   "file_extension": ".py",
   "mimetype": "text/x-python",
   "name": "python",
   "nbconvert_exporter": "python",
   "pygments_lexer": "ipython3",
   "version": "3.11.5"
  }
 },
 "nbformat": 4,
 "nbformat_minor": 2
}
