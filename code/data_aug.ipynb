{
 "cells": [
  {
   "cell_type": "code",
   "execution_count": 7,
   "metadata": {},
   "outputs": [],
   "source": [
    "import torch\n",
    "from torchvision.transforms import v2\n",
    "import torchvision.transforms.functional as F\n",
    "from PIL import Image\n",
    "import os\n",
    "import random"
   ]
  },
  {
   "cell_type": "code",
   "execution_count": null,
   "metadata": {},
   "outputs": [],
   "source": [
    "# flipping\n",
    "trans_flip = v2.Compose([\n",
    "    v2.RandomHorizontalFlip(p=1)\n",
    "])\n",
    "\n",
    "# height \n",
    "new_height = random.randrange(200 , 256)\n",
    "new_width = random.randrange(200 , 256)\n",
    "\n",
    "trans_zoom = v2.Compose(\n",
    "    [\n",
    "        v2.RandomCrop(size=(new_height , new_width))\n",
    "    ]\n",
    ")\n",
    "\n",
    "# rotation\n",
    "trans_rotate = v2.Compose(\n",
    "    [\n",
    "        v2.RandomRotation(degrees=(-10 , 10))\n",
    "    ]\n",
    ")\n",
    "\n",
    "\n",
    "# zooming\n",
    "target_size = (205, 205)\n",
    "trans_height = v2.Compose(\n",
    "    [\n",
    "        v2.RandomResizedCrop(size=target_size , scale=(0.8, 1.0))\n",
    "    ]\n",
    ")\n",
    "\n",
    "\n",
    "# brightness change\n",
    "def adjust_brightness(image):\n",
    "    factor  = random.uniform(0.5 , 1.9)\n",
    "\n",
    "    return F.adjust_brightness(image , factor)\n",
    "\n",
    "\n",
    "\n"
   ]
  },
  {
   "cell_type": "code",
   "execution_count": null,
   "metadata": {},
   "outputs": [],
   "source": [
    "\n",
    "\n",
    "def save_transformed_image(transformed_image, filename , save_dir):\n",
    "\n",
    "  transformed_image = F.to_pil_image(transformed_image)\n",
    "  transformed_image.save(os.path.join(save_dir, filename))"
   ]
  },
  {
   "cell_type": "code",
   "execution_count": 166,
   "metadata": {},
   "outputs": [],
   "source": [
    "classes = ['no_phary' , 'phary']\n",
    "base_dir = '/home/aman/code/CV/throat_infection/data'\n"
   ]
  },
  {
   "cell_type": "code",
   "execution_count": 176,
   "metadata": {},
   "outputs": [],
   "source": [
    "\n",
    "for i in classes:\n",
    "  image_dir = os.path.join(base_dir , i)\n",
    "  \n",
    "  for image_name in os.listdir(image_dir):\n",
    "    # Load the image (replace with your image loading method)\n",
    "    image_path = os.path.join(image_dir , image_name)\n",
    "    image = Image.open(image_path)\n",
    "\n",
    "    # Apply transformations\n",
    "    # transformed_image = transform(image)\n",
    "    trans1 = adjust_brightness(image)\n",
    "    filename = f\"{image_dir}_transformed4_{image_name}\"\n",
    "    filepath = os.path.join(image_dir , filename)\n",
    "    trans1.save(filepath)\n",
    "\n",
    "\n"
   ]
  },
  {
   "cell_type": "code",
   "execution_count": 173,
   "metadata": {},
   "outputs": [
    {
     "data": {
      "text/plain": [
       "'/home/aman/code/CV/throat_infection/data/phary'"
      ]
     },
     "execution_count": 173,
     "metadata": {},
     "output_type": "execute_result"
    }
   ],
   "source": [
    "image_dir"
   ]
  },
  {
   "cell_type": "code",
   "execution_count": 164,
   "metadata": {},
   "outputs": [
    {
     "ename": "FileNotFoundError",
     "evalue": "[Errno 2] No such file or directory: 'path/to/your/images/no_phary'",
     "output_type": "error",
     "traceback": [
      "\u001b[0;31m---------------------------------------------------------------------------\u001b[0m",
      "\u001b[0;31mFileNotFoundError\u001b[0m                         Traceback (most recent call last)",
      "Cell \u001b[0;32mIn[164], line 25\u001b[0m\n\u001b[1;32m     22\u001b[0m \u001b[38;5;28;01mfor\u001b[39;00m class_name \u001b[38;5;129;01min\u001b[39;00m classes:\n\u001b[1;32m     23\u001b[0m   image_dir \u001b[38;5;241m=\u001b[39m os\u001b[38;5;241m.\u001b[39mpath\u001b[38;5;241m.\u001b[39mjoin(base_dir, class_name)\n\u001b[0;32m---> 25\u001b[0m   \u001b[38;5;28;01mfor\u001b[39;00m image_name \u001b[38;5;129;01min\u001b[39;00m os\u001b[38;5;241m.\u001b[39mlistdir(image_dir):\n\u001b[1;32m     26\u001b[0m     image_path \u001b[38;5;241m=\u001b[39m os\u001b[38;5;241m.\u001b[39mpath\u001b[38;5;241m.\u001b[39mjoin(image_dir, image_name)\n\u001b[1;32m     27\u001b[0m     image \u001b[38;5;241m=\u001b[39m Image\u001b[38;5;241m.\u001b[39mopen(image_path)\n",
      "\u001b[0;31mFileNotFoundError\u001b[0m: [Errno 2] No such file or directory: 'path/to/your/images/no_phary'"
     ]
    }
   ],
   "source": []
  },
  {
   "cell_type": "code",
   "execution_count": null,
   "metadata": {},
   "outputs": [],
   "source": [
    "\n",
    "\n",
    "\n"
   ]
  }
 ],
 "metadata": {
  "kernelspec": {
   "display_name": "base",
   "language": "python",
   "name": "python3"
  },
  "language_info": {
   "codemirror_mode": {
    "name": "ipython",
    "version": 3
   },
   "file_extension": ".py",
   "mimetype": "text/x-python",
   "name": "python",
   "nbconvert_exporter": "python",
   "pygments_lexer": "ipython3",
   "version": "3.11.5"
  }
 },
 "nbformat": 4,
 "nbformat_minor": 2
}
